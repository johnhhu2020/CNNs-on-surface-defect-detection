{
 "cells": [
  {
   "cell_type": "code",
   "execution_count": 1,
   "id": "bc898c0c-d732-40d0-add1-d8eb87a6d430",
   "metadata": {},
   "outputs": [
    {
     "name": "stdout",
     "output_type": "stream",
     "text": [
      "Found 1632 images belonging to 6 classes.\n",
      "Found 168 images belonging to 6 classes.\n"
     ]
    }
   ],
   "source": [
    "from tensorflow.keras.preprocessing.image import ImageDataGenerator\n",
    "\n",
    "# All images will be rescaled by 1./255\n",
    "train_datagen = ImageDataGenerator(rescale=1./255)\n",
    "\n",
    "# Flow training images in batches of 128 using train_datagen generator\n",
    "train_generator = train_datagen.flow_from_directory(\n",
    "        'NEU_DET/Train_IMAGES',  # This is the source directory for training images\n",
    "        target_size=(200,200),  # All images will be resized to 200 x 200\n",
    "        color_mode='grayscale',\n",
    "        batch_size = 32,  # 24, 12  test\n",
    "        # Specify the classes explicitly\n",
    "        classes = ['crazing','inclusion','patches','pitted_surface','rolled_in_scale','scratches'],\n",
    "        # Since we use categorical_crossentropy loss, we need categorical labels\n",
    "        class_mode='categorical')\n",
    "\n",
    "\n",
    "# All images will be rescaled by 1./255\n",
    "test_datagen = ImageDataGenerator(rescale=1./255)\n",
    "\n",
    "# Flow training images in batches of 128 using train_datagen generator\n",
    "test_generator = test_datagen.flow_from_directory(\n",
    "        'NEU_DET/Test_IMAGES',  # This is the source directory for training images\n",
    "        target_size=(200,200),  # All images will be resized to 200 x 200\n",
    "        color_mode='grayscale',\n",
    "        batch_size = 32,  # 24\n",
    "        # Specify the classes explicitly\n",
    "        classes = ['crazing','inclusion','patches','pitted_surface','rolled_in_scale','scratches'],\n",
    "        # Since we use categorical_crossentropy loss, we need categorical labels\n",
    "        class_mode='categorical')\n"
   ]
  },
  {
   "cell_type": "code",
   "execution_count": 2,
   "id": "d09adc0d-fb67-48a6-91f6-21fba1b18626",
   "metadata": {},
   "outputs": [
    {
     "data": {
      "text/plain": [
       "{'crazing': 0,\n",
       " 'inclusion': 1,\n",
       " 'patches': 2,\n",
       " 'pitted_surface': 3,\n",
       " 'rolled_in_scale': 4,\n",
       " 'scratches': 5}"
      ]
     },
     "execution_count": 2,
     "metadata": {},
     "output_type": "execute_result"
    }
   ],
   "source": [
    "train_generator.class_indices"
   ]
  },
  {
   "cell_type": "code",
   "execution_count": 3,
   "id": "4189ac92-be4c-4fa5-9cb9-0f1d868e82fd",
   "metadata": {},
   "outputs": [],
   "source": [
    "import tensorflow as tf\n",
    "\n",
    "model = tf.keras.models.Sequential([\n",
    "    # Note the input shape is the desired size of the image 200x 200 with 3 bytes color\n",
    "    # The first convolution\n",
    "    tf.keras.layers.Conv2D(16, (3,3), activation='relu', input_shape=(200, 200, 1)),\n",
    "    tf.keras.layers.MaxPooling2D(2, 2),\n",
    "    # The second convolution\n",
    "    tf.keras.layers.Conv2D(32, (3,3), activation='relu'),\n",
    "    tf.keras.layers.MaxPooling2D(2,2),\n",
    "    # The third convolution\n",
    "    tf.keras.layers.Conv2D(64, (3,3), activation='relu'),\n",
    "    tf.keras.layers.MaxPooling2D(2,2),\n",
    "    # The fourth convolution\n",
    "    tf.keras.layers.Conv2D(64, (3,3), activation='relu'),\n",
    "    tf.keras.layers.MaxPooling2D(2,2),\n",
    "    # The fifth convolution\n",
    "    tf.keras.layers.Conv2D(64, (3,3), activation='relu'),\n",
    "    tf.keras.layers.MaxPooling2D(2,2),\n",
    "    # Flatten the results to feed into a dense layer\n",
    "    tf.keras.layers.Flatten(),\n",
    "    # 128 neuron in the fully-connected layer\n",
    "    tf.keras.layers.Dense(128, activation='relu'),\n",
    "    # 6 output neurons for 6 classes with the softmax activation\n",
    "    tf.keras.layers.Dense(6, activation='softmax')\n",
    "])\n"
   ]
  },
  {
   "cell_type": "code",
   "execution_count": 4,
   "id": "01dd29b5-3e31-4351-ac5f-33f20909e779",
   "metadata": {},
   "outputs": [],
   "source": [
    "\n",
    "#compile model using accuracy to measure model performance\n",
    "model.compile(optimizer='adam', loss='categorical_crossentropy', metrics=['accuracy'])\n"
   ]
  },
  {
   "cell_type": "code",
   "execution_count": 5,
   "id": "0e6c1763-eaf1-4542-8d24-b2dd0cf8d559",
   "metadata": {},
   "outputs": [],
   "source": [
    "\n",
    "from tensorflow.keras.optimizers import RMSprop\n",
    "\n",
    "model.compile(loss='categorical_crossentropy',\n",
    "              optimizer=RMSprop(lr=0.001),\n",
    "              metrics=['acc'])\n"
   ]
  },
  {
   "cell_type": "code",
   "execution_count": 6,
   "id": "6bea44f9-6d9f-4819-915f-4d4d8b08cc46",
   "metadata": {},
   "outputs": [
    {
     "data": {
      "text/plain": [
       "1632"
      ]
     },
     "execution_count": 6,
     "metadata": {},
     "output_type": "execute_result"
    }
   ],
   "source": [
    "total_sample=train_generator.n\n",
    "\n",
    "total_sample"
   ]
  },
  {
   "cell_type": "code",
   "execution_count": 7,
   "id": "2d6ad5d5-be69-47f7-9d6f-5d2e3e094d5b",
   "metadata": {},
   "outputs": [
    {
     "name": "stdout",
     "output_type": "stream",
     "text": [
      "Epoch 1/25\n",
      "51/51 [==============================] - 34s 646ms/step - loss: 1.7902 - acc: 0.2084 - val_loss: 1.6875 - val_acc: 0.1905\n",
      "Epoch 2/25\n",
      "51/51 [==============================] - 34s 660ms/step - loss: 1.5532 - acc: 0.3792 - val_loss: 1.1628 - val_acc: 0.5000\n",
      "Epoch 3/25\n",
      "51/51 [==============================] - 33s 646ms/step - loss: 1.2571 - acc: 0.5199 - val_loss: 0.9960 - val_acc: 0.5238\n",
      "Epoch 4/25\n",
      "51/51 [==============================] - 31s 615ms/step - loss: 0.9786 - acc: 0.6563 - val_loss: 0.8471 - val_acc: 0.6250\n",
      "Epoch 5/25\n",
      "51/51 [==============================] - 31s 612ms/step - loss: 0.7282 - acc: 0.7649 - val_loss: 0.3450 - val_acc: 0.9167\n",
      "Epoch 6/25\n",
      "51/51 [==============================] - 31s 611ms/step - loss: 0.6916 - acc: 0.7788 - val_loss: 0.2555 - val_acc: 0.9107\n",
      "Epoch 7/25\n",
      "51/51 [==============================] - 31s 616ms/step - loss: 0.6188 - acc: 0.8069 - val_loss: 1.0631 - val_acc: 0.6250\n",
      "Epoch 8/25\n",
      "51/51 [==============================] - 33s 645ms/step - loss: 0.5502 - acc: 0.8274 - val_loss: 0.1800 - val_acc: 0.9583\n",
      "Epoch 9/25\n",
      "51/51 [==============================] - 35s 678ms/step - loss: 0.3920 - acc: 0.8897 - val_loss: 2.0295 - val_acc: 0.5060\n",
      "Epoch 10/25\n",
      "51/51 [==============================] - 33s 649ms/step - loss: 0.7416 - acc: 0.8091 - val_loss: 0.2320 - val_acc: 0.9226\n",
      "Epoch 11/25\n",
      "51/51 [==============================] - 33s 640ms/step - loss: 0.3991 - acc: 0.9050 - val_loss: 0.1985 - val_acc: 0.9702\n",
      "Epoch 12/25\n",
      "51/51 [==============================] - 33s 641ms/step - loss: 0.3015 - acc: 0.9215 - val_loss: 0.1421 - val_acc: 0.9762\n",
      "Epoch 13/25\n",
      "51/51 [==============================] - 33s 644ms/step - loss: 0.4002 - acc: 0.9110 - val_loss: 0.2963 - val_acc: 0.9107\n",
      "Epoch 14/25\n",
      "51/51 [==============================] - 31s 612ms/step - loss: 0.3418 - acc: 0.8908 - val_loss: 0.1568 - val_acc: 0.9643\n",
      "Epoch 15/25\n",
      "51/51 [==============================] - 31s 611ms/step - loss: 0.2714 - acc: 0.9249 - val_loss: 0.1425 - val_acc: 0.9762\n",
      "Epoch 16/25\n",
      "51/51 [==============================] - 31s 614ms/step - loss: 0.1701 - acc: 0.9475 - val_loss: 0.1142 - val_acc: 0.9702\n",
      "Epoch 17/25\n",
      "51/51 [==============================] - 32s 624ms/step - loss: 0.2553 - acc: 0.9217 - val_loss: 0.1324 - val_acc: 0.9643\n",
      "Epoch 18/25\n",
      "51/51 [==============================] - 34s 661ms/step - loss: 0.3410 - acc: 0.9247 - val_loss: 0.1559 - val_acc: 0.9464\n",
      "Epoch 19/25\n",
      "51/51 [==============================] - 32s 630ms/step - loss: 0.2361 - acc: 0.9296 - val_loss: 0.5257 - val_acc: 0.8274\n",
      "Epoch 20/25\n",
      "51/51 [==============================] - 30s 595ms/step - loss: 0.2415 - acc: 0.9165 - val_loss: 0.1690 - val_acc: 0.9405\n",
      "Epoch 21/25\n",
      "51/51 [==============================] - 35s 692ms/step - loss: 0.1719 - acc: 0.9448 - val_loss: 0.1328 - val_acc: 0.9524\n",
      "Epoch 22/25\n",
      "51/51 [==============================] - 37s 729ms/step - loss: 0.1905 - acc: 0.9418 - val_loss: 0.1207 - val_acc: 0.9643\n",
      "Epoch 23/25\n",
      "51/51 [==============================] - 34s 658ms/step - loss: 0.2761 - acc: 0.9270 - val_loss: 0.1419 - val_acc: 0.9583\n",
      "Epoch 24/25\n",
      "51/51 [==============================] - 34s 673ms/step - loss: 0.2274 - acc: 0.9230 - val_loss: 0.1179 - val_acc: 0.9702\n",
      "Epoch 25/25\n",
      "51/51 [==============================] - 39s 762ms/step - loss: 0.1188 - acc: 0.9666 - val_loss: 0.7792 - val_acc: 0.7202\n"
     ]
    }
   ],
   "source": [
    "history = model.fit(\n",
    "        train_generator,\n",
    "        validation_data = test_generator,\n",
    "        steps_per_epoch = 51,\n",
    "        epochs = 25,)\n"
   ]
  },
  {
   "cell_type": "code",
   "execution_count": 8,
   "id": "a76304c3-7a93-42f9-9f29-34e5fbf6fd01",
   "metadata": {},
   "outputs": [
    {
     "data": {
      "image/png": "[encoded data removed]",
      "text/plain": [
       "<Figure size 504x288 with 1 Axes>"
      ]
     },
     "metadata": {
      "needs_background": "light"
     },
     "output_type": "display_data"
    }
   ],
   "source": [
    "import matplotlib.pyplot as plt\n",
    "\n",
    "plt.figure(figsize=(7,4))\n",
    "plt.plot([i+1 for i in range(25)],history.history['acc'],'-o',c='k',lw=1,markersize=2)\n",
    "plt.grid(True)\n",
    "plt.title(\"Training accuracy with epochs\\n\",fontsize=18)\n",
    "plt.xlabel(\"Training epochs\",fontsize=15)\n",
    "plt.ylabel(\"Training accuracy\",fontsize=15)\n",
    "plt.xticks(fontsize=15)\n",
    "plt.yticks(fontsize=15)\n",
    "plt.show()\n"
   ]
  },
  {
   "cell_type": "code",
   "execution_count": null,
   "id": "db77e1c0-3ee6-4bfc-971d-cb10d4aaf65d",
   "metadata": {},
   "outputs": [],
   "source": []
  }
 ],
 "metadata": {
  "kernelspec": {
   "display_name": "Python 3",
   "language": "python",
   "name": "python3"
  },
  "language_info": {
   "codemirror_mode": {
    "name": "ipython",
    "version": 3
   },
   "file_extension": ".py",
   "mimetype": "text/x-python",
   "name": "python",
   "nbconvert_exporter": "python",
   "pygments_lexer": "ipython3",
   "version": "3.8.5"
  }
 },
 "nbformat": 4,
 "nbformat_minor": 5
}
