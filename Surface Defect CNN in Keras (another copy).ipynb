{
 "cells": [
  {
   "cell_type": "code",
   "execution_count": 1,
   "id": "bc898c0c-d732-40d0-add1-d8eb87a6d430",
   "metadata": {},
   "outputs": [
    {
     "name": "stdout",
     "output_type": "stream",
     "text": [
      "Found 1464 images belonging to 6 classes.\n",
      "Found 336 images belonging to 6 classes.\n"
     ]
    }
   ],
   "source": [
    "from tensorflow.keras.preprocessing.image import ImageDataGenerator\n",
    "\n",
    "# All images will be rescaled by 1./255\n",
    "train_datagen = ImageDataGenerator(rescale=1./255)\n",
    "\n",
    "# Flow training images in batches of 128 using train_datagen generator\n",
    "train_generator = train_datagen.flow_from_directory(\n",
    "        'NEU_DET/Train_IMAGES',  # This is the source directory for training images\n",
    "        target_size=(200,200),  # All images will be resized to 200 x 200\n",
    "        color_mode='grayscale',\n",
    "        batch_size = 64,  # 32, 24, 12  test\n",
    "        # Specify the classes explicitly\n",
    "        classes = ['crazing','inclusion','patches','pitted_surface','rolled_in_scale','scratches'],\n",
    "        # Since we use categorical_crossentropy loss, we need categorical labels\n",
    "        class_mode='categorical')\n",
    "\n",
    "\n",
    "# All images will be rescaled by 1./255\n",
    "test_datagen = ImageDataGenerator(rescale=1./255)\n",
    "\n",
    "# Flow training images in batches of 128 using train_datagen generator\n",
    "test_generator = test_datagen.flow_from_directory(\n",
    "        'NEU_DET/Test_IMAGES',  # This is the source directory for training images\n",
    "        target_size=(200,200),  # All images will be resized to 200 x 200\n",
    "        color_mode='grayscale',\n",
    "        batch_size = 64,  # 32, 24, 12\n",
    "        # Specify the classes explicitly\n",
    "        classes = ['crazing','inclusion','patches','pitted_surface','rolled_in_scale','scratches'],\n",
    "        # Since we use categorical_crossentropy loss, we need categorical labels\n",
    "        class_mode='categorical')\n"
   ]
  },
  {
   "cell_type": "code",
   "execution_count": 2,
   "id": "d09adc0d-fb67-48a6-91f6-21fba1b18626",
   "metadata": {},
   "outputs": [
    {
     "data": {
      "text/plain": [
       "{'crazing': 0,\n",
       " 'inclusion': 1,\n",
       " 'patches': 2,\n",
       " 'pitted_surface': 3,\n",
       " 'rolled_in_scale': 4,\n",
       " 'scratches': 5}"
      ]
     },
     "execution_count": 2,
     "metadata": {},
     "output_type": "execute_result"
    }
   ],
   "source": [
    "train_generator.class_indices"
   ]
  },
  {
   "cell_type": "code",
   "execution_count": 3,
   "id": "4189ac92-be4c-4fa5-9cb9-0f1d868e82fd",
   "metadata": {},
   "outputs": [],
   "source": [
    "import tensorflow as tf\n",
    "\n",
    "model = tf.keras.models.Sequential([\n",
    "    # Note the input shape is the desired size of the image 200x 200 with 3 bytes color\n",
    "    # The first convolution\n",
    "    tf.keras.layers.Conv2D(16, (3,3), activation='relu', input_shape=(200, 200, 1)),\n",
    "    tf.keras.layers.MaxPooling2D(2,2),\n",
    "    # The second convolution\n",
    "    tf.keras.layers.Conv2D(32, (3,3), activation='relu'),   # 3,3    6,6\n",
    "    tf.keras.layers.MaxPooling2D(2,2),\n",
    "    # The third convolution\n",
    "    tf.keras.layers.Conv2D(64, (3,3), activation='relu'),\n",
    "    tf.keras.layers.MaxPooling2D(2,2),\n",
    "    # The fourth convolution\n",
    "    tf.keras.layers.Conv2D(64, (3,3), activation='relu'),\n",
    "    tf.keras.layers.MaxPooling2D(2,2),\n",
    "    # The fifth convolution\n",
    "    tf.keras.layers.Conv2D(64, (3,3), activation='relu'),\n",
    "    tf.keras.layers.MaxPooling2D(2,2),\n",
    "    # Flatten the results to feed into a dense layer\n",
    "    tf.keras.layers.Flatten(),\n",
    "    # 128 neuron in the fully-connected layer\n",
    "    tf.keras.layers.Dense(128, activation='relu'),\n",
    "    # 6 output neurons for 6 classes with the softmax activation\n",
    "    tf.keras.layers.Dense(6, activation='softmax')\n",
    "])\n"
   ]
  },
  {
   "cell_type": "code",
   "execution_count": 4,
   "id": "01dd29b5-3e31-4351-ac5f-33f20909e779",
   "metadata": {},
   "outputs": [],
   "source": [
    "#compile model using accuracy to measure model performance\n",
    "model.compile(optimizer='adam', loss='categorical_crossentropy', metrics=['accuracy'])\n"
   ]
  },
  {
   "cell_type": "code",
   "execution_count": 5,
   "id": "0e6c1763-eaf1-4542-8d24-b2dd0cf8d559",
   "metadata": {},
   "outputs": [],
   "source": [
    "from tensorflow.keras.optimizers import RMSprop\n",
    "\n",
    "model.compile(loss='categorical_crossentropy',\n",
    "              optimizer=RMSprop(lr=0.001),\n",
    "              metrics=['acc'])\n"
   ]
  },
  {
   "cell_type": "code",
   "execution_count": 6,
   "id": "2d6ad5d5-be69-47f7-9d6f-5d2e3e094d5b",
   "metadata": {},
   "outputs": [
    {
     "name": "stdout",
     "output_type": "stream",
     "text": [
      "Epoch 1/20\n",
      "23/23 [==============================] - 30s 1s/step - loss: 1.7847 - acc: 0.1863 - val_loss: 1.6260 - val_acc: 0.1667\n",
      "Epoch 2/20\n",
      "23/23 [==============================] - 30s 1s/step - loss: 1.6173 - acc: 0.2935 - val_loss: 1.4209 - val_acc: 0.4821\n",
      "Epoch 3/20\n",
      "23/23 [==============================] - 30s 1s/step - loss: 1.5507 - acc: 0.4160 - val_loss: 1.2097 - val_acc: 0.5446\n",
      "Epoch 4/20\n",
      "23/23 [==============================] - 30s 1s/step - loss: 1.3211 - acc: 0.5260 - val_loss: 0.9640 - val_acc: 0.6429\n",
      "Epoch 5/20\n",
      "23/23 [==============================] - 31s 1s/step - loss: 1.1402 - acc: 0.6218 - val_loss: 0.9472 - val_acc: 0.6369\n",
      "Epoch 6/20\n",
      "23/23 [==============================] - 34s 1s/step - loss: 0.9946 - acc: 0.6752 - val_loss: 0.6665 - val_acc: 0.7917\n",
      "Epoch 7/20\n",
      "23/23 [==============================] - 35s 2s/step - loss: 0.9778 - acc: 0.7143 - val_loss: 0.6314 - val_acc: 0.7917\n",
      "Epoch 8/20\n",
      "23/23 [==============================] - 36s 2s/step - loss: 0.6174 - acc: 0.8011 - val_loss: 0.3686 - val_acc: 0.8988\n",
      "Epoch 9/20\n",
      "23/23 [==============================] - 30s 1s/step - loss: 0.6773 - acc: 0.8041 - val_loss: 0.4184 - val_acc: 0.9077\n",
      "Epoch 10/20\n",
      "23/23 [==============================] - 33s 1s/step - loss: 0.4523 - acc: 0.8693 - val_loss: 0.2692 - val_acc: 0.9375\n",
      "Epoch 11/20\n",
      "23/23 [==============================] - 36s 2s/step - loss: 0.3659 - acc: 0.8917 - val_loss: 0.5755 - val_acc: 0.8810\n",
      "Epoch 12/20\n",
      "23/23 [==============================] - 30s 1s/step - loss: 0.4618 - acc: 0.8588 - val_loss: 0.2235 - val_acc: 0.9435\n",
      "Epoch 13/20\n",
      "23/23 [==============================] - 29s 1s/step - loss: 0.4861 - acc: 0.8460 - val_loss: 0.2435 - val_acc: 0.9405\n",
      "Epoch 14/20\n",
      "23/23 [==============================] - 29s 1s/step - loss: 0.4334 - acc: 0.8708 - val_loss: 0.2590 - val_acc: 0.9435\n",
      "Epoch 15/20\n",
      "23/23 [==============================] - 29s 1s/step - loss: 0.3948 - acc: 0.8823 - val_loss: 0.3239 - val_acc: 0.9226\n",
      "Epoch 16/20\n",
      "23/23 [==============================] - 29s 1s/step - loss: 0.3476 - acc: 0.8900 - val_loss: 0.2117 - val_acc: 0.9524\n",
      "Epoch 17/20\n",
      "23/23 [==============================] - 31s 1s/step - loss: 0.3716 - acc: 0.8971 - val_loss: 0.1896 - val_acc: 0.9643\n",
      "Epoch 18/20\n",
      "23/23 [==============================] - 30s 1s/step - loss: 0.3334 - acc: 0.9121 - val_loss: 0.1852 - val_acc: 0.9643\n",
      "Epoch 19/20\n",
      "23/23 [==============================] - 30s 1s/step - loss: 0.1884 - acc: 0.9406 - val_loss: 0.1890 - val_acc: 0.9643\n",
      "Epoch 20/20\n",
      "23/23 [==============================] - 29s 1s/step - loss: 0.2277 - acc: 0.9251 - val_loss: 0.2975 - val_acc: 0.9286\n"
     ]
    }
   ],
   "source": [
    "history = model.fit(\n",
    "        train_generator,\n",
    "        validation_data = test_generator,\n",
    "        # steps_per_epoch = 51,\n",
    "        epochs = 20,)\n"
   ]
  },
  {
   "cell_type": "code",
   "execution_count": 7,
   "id": "a76304c3-7a93-42f9-9f29-34e5fbf6fd01",
   "metadata": {},
   "outputs": [
    {
     "data": {
      "image/png": "[encoded data removed]",
      "text/plain": [
       "<Figure size 504x288 with 1 Axes>"
      ]
     },
     "metadata": {
      "needs_background": "light"
     },
     "output_type": "display_data"
    }
   ],
   "source": [
    "import matplotlib.pyplot as plt\n",
    "\n",
    "plt.figure(figsize=(7,4))\n",
    "plt.plot([i+1 for i in range(20)],history.history['acc'],'-o',c='b',lw=1,markersize=2)\n",
    "plt.plot([i+1 for i in range(20)],history.history['val_acc'],'-o',c='g',lw=1,markersize=2)\n",
    "plt.grid(True)\n",
    "plt.title(\"Training accuracy with epochs\\n\",fontsize=18)\n",
    "plt.xlabel(\"Training epochs\",fontsize=15)\n",
    "plt.ylabel(\"Training accuracy\",fontsize=15)\n",
    "plt.xticks(fontsize=15)\n",
    "plt.yticks(fontsize=15)\n",
    "plt.show()\n"
   ]
  },
  {
   "cell_type": "code",
   "execution_count": null,
   "id": "db77e1c0-3ee6-4bfc-971d-cb10d4aaf65d",
   "metadata": {},
   "outputs": [],
   "source": []
  }
 ],
 "metadata": {
  "kernelspec": {
   "display_name": "Python 3",
   "language": "python",
   "name": "python3"
  },
  "language_info": {
   "codemirror_mode": {
    "name": "ipython",
    "version": 3
   },
   "file_extension": ".py",
   "mimetype": "text/x-python",
   "name": "python",
   "nbconvert_exporter": "python",
   "pygments_lexer": "ipython3",
   "version": "3.8.5"
  }
 },
 "nbformat": 4,
 "nbformat_minor": 5
}
