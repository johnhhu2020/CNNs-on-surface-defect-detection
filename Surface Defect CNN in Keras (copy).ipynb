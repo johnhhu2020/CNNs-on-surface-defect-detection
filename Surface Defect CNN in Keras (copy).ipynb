{
 "cells": [
  {
   "cell_type": "code",
   "execution_count": 1,
   "id": "bc898c0c-d732-40d0-add1-d8eb87a6d430",
   "metadata": {},
   "outputs": [
    {
     "name": "stdout",
     "output_type": "stream",
     "text": [
      "Found 1464 images belonging to 6 classes.\n",
      "Found 336 images belonging to 6 classes.\n"
     ]
    }
   ],
   "source": [
    "from tensorflow.keras.preprocessing.image import ImageDataGenerator\n",
    "import tensorflow as tf\n",
    "\n",
    "# All images will be rescaled by 1./255\n",
    "train_datagen = ImageDataGenerator(rescale=1./255)\n",
    "\n",
    "#   train_datagen = ImageDataGenerator(\n",
    "#           rescale=1./255,\n",
    "#           shear_range=0.2,\n",
    "#           zoom_range=0.2,\n",
    "#           horizontal_flip=True)\n",
    "\n",
    "#   datagen = ImageDataGenerator(\n",
    "#           rotation_range=40,\n",
    "#           width_shift_range=0.2,\n",
    "#           height_shift_range=0.2,\n",
    "#           rescale=1./255,\n",
    "#           shear_range=0.2,\n",
    "#           zoom_range=0.2,\n",
    "#           horizontal_flip=True,\n",
    "#           fill_mode='nearest')\n",
    "\n",
    "# Flow training images in batches of 128 using train_datagen generator\n",
    "train_generator = train_datagen.flow_from_directory(  # train_datagen\n",
    "        'NEU_DET/Train_IMAGES',  # This is the source directory for training images\n",
    "        target_size=(200,200),  # All images will be resized to 200 x 200\n",
    "        color_mode='grayscale',\n",
    "        batch_size = 64,\n",
    "        # Specify the classes explicitly\n",
    "        classes = ['crazing','inclusion','patches','pitted_surface','rolled_in_scale','scratches'],\n",
    "        # Since we use categorical_crossentropy loss, we need categorical labels\n",
    "        class_mode='categorical')\n",
    "\n",
    "\n",
    "# All images will be rescaled by 1./255\n",
    "test_datagen = ImageDataGenerator(rescale=1./255)\n",
    "\n",
    "# Flow training images in batches of 128 using train_datagen generator\n",
    "test_generator = test_datagen.flow_from_directory(\n",
    "        'NEU_DET/Test_IMAGES',  # This is the source directory for training images\n",
    "        target_size=(200,200),  # All images will be resized to 200 x 200\n",
    "        color_mode='grayscale', # grayscale, rgb\n",
    "        batch_size = 64,  # 128, 64, 32, 24\n",
    "        # Specify the classes explicitly\n",
    "        classes = ['crazing','inclusion','patches','pitted_surface','rolled_in_scale','scratches'],\n",
    "        # Since we use categorical_crossentropy loss, we need categorical labels\n",
    "        class_mode='categorical')\n"
   ]
  },
  {
   "cell_type": "code",
   "execution_count": 2,
   "id": "4189ac92-be4c-4fa5-9cb9-0f1d868e82fd",
   "metadata": {},
   "outputs": [
    {
     "name": "stdout",
     "output_type": "stream",
     "text": [
      "Model: \"sequential\"\n",
      "_________________________________________________________________\n",
      "Layer (type)                 Output Shape              Param #   \n",
      "=================================================================\n",
      "conv2d (Conv2D)              (None, 198, 198, 16)      160       \n",
      "_________________________________________________________________\n",
      "max_pooling2d (MaxPooling2D) (None, 99, 99, 16)        0         \n",
      "_________________________________________________________________\n",
      "conv2d_1 (Conv2D)            (None, 97, 97, 32)        4640      \n",
      "_________________________________________________________________\n",
      "max_pooling2d_1 (MaxPooling2 (None, 48, 48, 32)        0         \n",
      "_________________________________________________________________\n",
      "conv2d_2 (Conv2D)            (None, 46, 46, 64)        18496     \n",
      "_________________________________________________________________\n",
      "max_pooling2d_2 (MaxPooling2 (None, 23, 23, 64)        0         \n",
      "_________________________________________________________________\n",
      "conv2d_3 (Conv2D)            (None, 21, 21, 64)        36928     \n",
      "_________________________________________________________________\n",
      "max_pooling2d_3 (MaxPooling2 (None, 10, 10, 64)        0         \n",
      "_________________________________________________________________\n",
      "conv2d_4 (Conv2D)            (None, 8, 8, 64)          36928     \n",
      "_________________________________________________________________\n",
      "max_pooling2d_4 (MaxPooling2 (None, 4, 4, 64)          0         \n",
      "_________________________________________________________________\n",
      "flatten (Flatten)            (None, 1024)              0         \n",
      "_________________________________________________________________\n",
      "dense (Dense)                (None, 1024)              1049600   \n",
      "_________________________________________________________________\n",
      "dense_1 (Dense)              (None, 6)                 6150      \n",
      "=================================================================\n",
      "Total params: 1,152,902\n",
      "Trainable params: 1,152,902\n",
      "Non-trainable params: 0\n",
      "_________________________________________________________________\n"
     ]
    }
   ],
   "source": [
    "import tensorflow as tf\n",
    "\n",
    "model = tf.keras.models.Sequential([\n",
    "    # Note the input shape is the desired size of the image 200x 200 with 3 bytes color\n",
    "    # The first convolution\n",
    "    tf.keras.layers.Conv2D(16, (3,3), activation='relu', input_shape=(200, 200, 1)),\n",
    "    tf.keras.layers.MaxPooling2D(2, 2),\n",
    "    # The second convolution\n",
    "    tf.keras.layers.Conv2D(32, (3,3), activation='relu'),\n",
    "    tf.keras.layers.MaxPooling2D(2,2),\n",
    "    # The third convolution\n",
    "    tf.keras.layers.Conv2D(64, (3,3), activation='relu'),\n",
    "    tf.keras.layers.MaxPooling2D(2,2),\n",
    "    # The fourth convolution\n",
    "    tf.keras.layers.Conv2D(64, (3,3), activation='relu'),\n",
    "    tf.keras.layers.MaxPooling2D(2,2),\n",
    "    # The fifth convolution\n",
    "    tf.keras.layers.Conv2D(64, (3,3), activation='relu'),\n",
    "    tf.keras.layers.MaxPooling2D(2,2),\n",
    "    # Flatten the results to feed into a dense layer\n",
    "    tf.keras.layers.Flatten(),\n",
    "    # 128 neuron in the fully-connected layer\n",
    "    tf.keras.layers.Dense(1024, activation='relu'),  # 1024, 128, 64, 32\n",
    "    # 6 output neurons for 6 classes with the softmax activation\n",
    "    tf.keras.layers.Dense(6, activation='sigmoid')  # softmax\n",
    "])\n",
    "\n",
    "model.summary()"
   ]
  },
  {
   "cell_type": "code",
   "execution_count": 3,
   "id": "01dd29b5-3e31-4351-ac5f-33f20909e779",
   "metadata": {},
   "outputs": [],
   "source": [
    "#compile model using accuracy to measure model performance\n",
    "model.compile(optimizer='adam',\n",
    "              loss='categorical_crossentropy',\n",
    "              metrics=['accuracy'])"
   ]
  },
  {
   "cell_type": "code",
   "execution_count": 4,
   "id": "1dff2f6d-acf4-4b5a-866d-5da27b5f7a44",
   "metadata": {},
   "outputs": [
    {
     "name": "stdout",
     "output_type": "stream",
     "text": [
      "Epoch 1/30\n",
      "23/23 [==============================] - 72s 2s/step - loss: 1.7744 - accuracy: 0.2018 - val_loss: 1.5662 - val_accuracy: 0.3512\n",
      "Epoch 2/30\n",
      "23/23 [==============================] - 38s 2s/step - loss: 1.2816 - accuracy: 0.4827 - val_loss: 0.9700 - val_accuracy: 0.6577\n",
      "Epoch 3/30\n",
      "23/23 [==============================] - 41s 2s/step - loss: 0.6345 - accuracy: 0.7676 - val_loss: 0.4703 - val_accuracy: 0.8036\n",
      "Epoch 4/30\n",
      "23/23 [==============================] - 32s 1s/step - loss: 0.3978 - accuracy: 0.8611 - val_loss: 0.3980 - val_accuracy: 0.8452\n",
      "Epoch 5/30\n",
      "23/23 [==============================] - 31s 1s/step - loss: 0.3343 - accuracy: 0.8791 - val_loss: 0.3727 - val_accuracy: 0.8780\n",
      "Epoch 6/30\n",
      "23/23 [==============================] - 31s 1s/step - loss: 0.3609 - accuracy: 0.8703 - val_loss: 0.4429 - val_accuracy: 0.8512\n",
      "Epoch 7/30\n",
      "23/23 [==============================] - 33s 1s/step - loss: 0.2678 - accuracy: 0.9028 - val_loss: 0.1820 - val_accuracy: 0.9375\n",
      "Epoch 8/30\n",
      "23/23 [==============================] - 36s 2s/step - loss: 0.2038 - accuracy: 0.9156 - val_loss: 0.2683 - val_accuracy: 0.9435\n",
      "Epoch 9/30\n",
      "23/23 [==============================] - 40s 2s/step - loss: 0.2176 - accuracy: 0.9144 - val_loss: 0.1830 - val_accuracy: 0.9405\n",
      "Epoch 10/30\n",
      "23/23 [==============================] - 39s 2s/step - loss: 0.1697 - accuracy: 0.9385 - val_loss: 0.2528 - val_accuracy: 0.8929\n",
      "Epoch 11/30\n",
      "23/23 [==============================] - 37s 2s/step - loss: 0.1454 - accuracy: 0.9407 - val_loss: 0.1917 - val_accuracy: 0.9673\n",
      "Epoch 12/30\n",
      "23/23 [==============================] - 37s 2s/step - loss: 0.1251 - accuracy: 0.9485 - val_loss: 0.1403 - val_accuracy: 0.9643\n",
      "Epoch 13/30\n",
      "23/23 [==============================] - 37s 2s/step - loss: 0.0961 - accuracy: 0.9642 - val_loss: 0.5133 - val_accuracy: 0.7679\n",
      "Epoch 14/30\n",
      "23/23 [==============================] - 37s 2s/step - loss: 0.1376 - accuracy: 0.9467 - val_loss: 0.1058 - val_accuracy: 0.9643\n",
      "Epoch 15/30\n",
      "23/23 [==============================] - 40s 2s/step - loss: 0.0957 - accuracy: 0.9600 - val_loss: 0.1739 - val_accuracy: 0.9494\n",
      "Epoch 16/30\n",
      "23/23 [==============================] - 36s 2s/step - loss: 0.0849 - accuracy: 0.9682 - val_loss: 0.1341 - val_accuracy: 0.9702\n",
      "Epoch 17/30\n",
      "23/23 [==============================] - 38s 2s/step - loss: 0.0784 - accuracy: 0.9672 - val_loss: 0.1338 - val_accuracy: 0.9494\n",
      "Epoch 18/30\n",
      "23/23 [==============================] - 36s 2s/step - loss: 0.2974 - accuracy: 0.9071 - val_loss: 0.3220 - val_accuracy: 0.9077\n",
      "Epoch 19/30\n",
      "23/23 [==============================] - 46s 2s/step - loss: 0.2598 - accuracy: 0.9137 - val_loss: 0.2519 - val_accuracy: 0.9226\n",
      "Epoch 20/30\n",
      "23/23 [==============================] - 46s 2s/step - loss: 0.1514 - accuracy: 0.9405 - val_loss: 0.2321 - val_accuracy: 0.9256\n",
      "Epoch 21/30\n",
      "23/23 [==============================] - 42s 2s/step - loss: 0.1333 - accuracy: 0.9426 - val_loss: 0.0937 - val_accuracy: 0.9762\n",
      "Epoch 22/30\n",
      "23/23 [==============================] - 46s 2s/step - loss: 0.0791 - accuracy: 0.9742 - val_loss: 0.1364 - val_accuracy: 0.9583\n",
      "Epoch 23/30\n",
      "23/23 [==============================] - 33s 1s/step - loss: 0.0706 - accuracy: 0.9792 - val_loss: 0.1425 - val_accuracy: 0.9554\n",
      "Epoch 24/30\n",
      "23/23 [==============================] - 32s 1s/step - loss: 0.0933 - accuracy: 0.9561 - val_loss: 0.1266 - val_accuracy: 0.9613\n",
      "Epoch 25/30\n",
      "23/23 [==============================] - 31s 1s/step - loss: 0.0870 - accuracy: 0.9654 - val_loss: 0.1240 - val_accuracy: 0.9643\n",
      "Epoch 26/30\n",
      "23/23 [==============================] - 32s 1s/step - loss: 0.0649 - accuracy: 0.9723 - val_loss: 0.1049 - val_accuracy: 0.9643\n",
      "Epoch 27/30\n",
      "23/23 [==============================] - 31s 1s/step - loss: 0.0600 - accuracy: 0.9830 - val_loss: 0.0898 - val_accuracy: 0.9762\n",
      "Epoch 28/30\n",
      "23/23 [==============================] - 32s 1s/step - loss: 0.0564 - accuracy: 0.9782 - val_loss: 0.1208 - val_accuracy: 0.9673\n",
      "Epoch 29/30\n",
      "23/23 [==============================] - 32s 1s/step - loss: 0.0611 - accuracy: 0.9725 - val_loss: 0.1757 - val_accuracy: 0.9345\n",
      "Epoch 30/30\n",
      "23/23 [==============================] - 31s 1s/step - loss: 0.0558 - accuracy: 0.9833 - val_loss: 0.1022 - val_accuracy: 0.9762\n"
     ]
    }
   ],
   "source": [
    "history = model.fit(\n",
    "        train_generator,\n",
    "        validation_data = test_generator,\n",
    "        epochs = 30)"
   ]
  },
  {
   "cell_type": "code",
   "execution_count": 5,
   "id": "a76304c3-7a93-42f9-9f29-34e5fbf6fd01",
   "metadata": {},
   "outputs": [
    {
     "data": {
      "image/png": "[encoded data removed]",
      "text/plain": [
       "<Figure size 504x288 with 1 Axes>"
      ]
     },
     "metadata": {
      "needs_background": "light"
     },
     "output_type": "display_data"
    }
   ],
   "source": [
    "import matplotlib.pyplot as plt\n",
    "\n",
    "plt.figure(figsize=(7,4))\n",
    "plt.plot([i+1 for i in range(30)],history.history['accuracy'],'-o',c='b',lw=1,markersize=2)\n",
    "plt.plot([i+1 for i in range(30)],history.history['val_accuracy'],'-o',c='g',lw=1,markersize=2)\n",
    "plt.grid(True)\n",
    "plt.title(\"Training accuracy with epochs\\n\",fontsize=18)\n",
    "plt.xlabel(\"Training epochs\",fontsize=15)\n",
    "plt.ylabel(\"Training accuracy\",fontsize=15)\n",
    "plt.xticks(fontsize=15)\n",
    "plt.yticks(fontsize=15)\n",
    "plt.show()\n"
   ]
  },
  {
   "cell_type": "code",
   "execution_count": null,
   "id": "a7af64c2-1e2a-44ab-81a3-07327cf82c8d",
   "metadata": {},
   "outputs": [],
   "source": []
  },
  {
   "cell_type": "code",
   "execution_count": null,
   "id": "5e13966f-0273-484a-a8f2-0509a645bef2",
   "metadata": {},
   "outputs": [],
   "source": []
  },
  {
   "cell_type": "code",
   "execution_count": null,
   "id": "bcc081be-3895-4f3b-86ff-dda2298f1dfb",
   "metadata": {},
   "outputs": [],
   "source": []
  },
  {
   "cell_type": "code",
   "execution_count": null,
   "id": "7a6944b1-3302-458e-af00-993ef4b31629",
   "metadata": {},
   "outputs": [],
   "source": []
  },
  {
   "cell_type": "code",
   "execution_count": null,
   "id": "59ce3df2-9dfe-42b1-b8e2-fa17913197c6",
   "metadata": {},
   "outputs": [],
   "source": []
  },
  {
   "cell_type": "code",
   "execution_count": null,
   "id": "a8402d9c-5d42-4028-bfce-c8710588b7fd",
   "metadata": {},
   "outputs": [],
   "source": []
  },
  {
   "cell_type": "code",
   "execution_count": null,
   "id": "5cf46843-df62-4db3-a04d-d417026c14bb",
   "metadata": {},
   "outputs": [],
   "source": []
  },
  {
   "cell_type": "code",
   "execution_count": null,
   "id": "c937ba6d-119a-4086-87dd-9fb53e02655d",
   "metadata": {},
   "outputs": [],
   "source": []
  },
  {
   "cell_type": "code",
   "execution_count": null,
   "id": "90b0f0da-490c-48e7-b2b2-46a901d76b0e",
   "metadata": {},
   "outputs": [],
   "source": []
  },
  {
   "cell_type": "code",
   "execution_count": null,
   "id": "e5c0d54b-ebf2-49d2-a07a-52dee0fa9a21",
   "metadata": {},
   "outputs": [],
   "source": []
  },
  {
   "cell_type": "code",
   "execution_count": null,
   "id": "79431a60-10b2-45cb-8ec7-d054f3af0c3a",
   "metadata": {},
   "outputs": [],
   "source": [
    "import numpy as np\n",
    "import matplotlib.pyplot as plt\n",
    "import os\n",
    "import cv2\n",
    "#from tqdm import tqdm\n",
    "\n",
    "DATADIR = 'NEU_DET/Train_IMAGES'\n",
    "\n",
    "CATEGORIES = ['crazing','inclusion','patches','pitted_surface','rolled_in_scale','scratches']\n",
    "\n",
    "for category in CATEGORIES:  # do dogs and cats\n",
    "    path = os.path.join(DATADIR,category)  # create path to dogs and cats\n",
    "    train_class_num = CATEGORIES.index(category)  # get the classification  (0 or a 1). 0=dog 1=cat\n",
    "    for img in os.listdir(path):  # iterate over each image per dogs and cats\n",
    "        \n",
    "        train_img_array = cv2.imread(os.path.join(path,img) ,cv2.IMREAD_GRAYSCALE)     # convert to array\n",
    "        plt.imshow(train_img_array, cmap='gray')  # graph it\n",
    "        plt.show()  # display!\n",
    "\n",
    "        break  # we just want one for now so break\n",
    "    break  #...and one more!\n",
    "\n",
    "    \n",
    "DATADIR = 'NEU_DET/Test_IMAGES'\n",
    "\n",
    "CATEGORIES = ['crazing','inclusion','patches','pitted_surface','rolled_in_scale','scratches']\n",
    "\n",
    "for category in CATEGORIES:  # do dogs and cats\n",
    "    path = os.path.join(DATADIR,category)  # create path to dogs and cats\n",
    "    test_class_num = CATEGORIES.index(category)  # get the classification  (0 or a 1). 0=dog 1=cat\n",
    "    for img in os.listdir(path):  # iterate over each image per dogs and cats\n",
    "        \n",
    "        test_img_array = cv2.imread(os.path.join(path,img) ,cv2.IMREAD_GRAYSCALE)     # convert to array\n",
    "        plt.imshow(test_img_array, cmap='gray')  # graph it\n",
    "        plt.show()  # display!\n",
    "\n",
    "        break  # we just want one for now so break\n",
    "    break  #...and one more!\n"
   ]
  },
  {
   "cell_type": "code",
   "execution_count": null,
   "id": "d5c9a79c-bafc-482a-bed6-10d88c7efd6e",
   "metadata": {},
   "outputs": [],
   "source": [
    "print(train_img_array[0])"
   ]
  },
  {
   "cell_type": "code",
   "execution_count": null,
   "id": "4d32fdaf-1fac-4fc8-9b73-e09ce62befb8",
   "metadata": {},
   "outputs": [],
   "source": [
    "print(test_img_array.shape)"
   ]
  },
  {
   "cell_type": "code",
   "execution_count": null,
   "id": "9f5a658f-6e9f-4463-aa0d-cdd164c53e5e",
   "metadata": {},
   "outputs": [],
   "source": [
    "from keras.utils import to_categorical\n",
    "\n",
    "y_train = to_categorical(train_class_num)\n",
    "\n",
    "print(y_train[6])"
   ]
  },
  {
   "cell_type": "code",
   "execution_count": null,
   "id": "445b5dc8-92ce-42ab-a8eb-fcba206df77d",
   "metadata": {},
   "outputs": [],
   "source": [
    "import keras\n",
    "\n",
    "X_train = train_img_array\n",
    "y_train = keras.utils.to_categorical(X_train, class_num)\n",
    "\n",
    "X_test = test_img_array\n",
    "y_test = keras.utils.to_categorical(X_test, class_num)"
   ]
  },
  {
   "cell_type": "code",
   "execution_count": null,
   "id": "0b9b4764-77f9-46be-b461-2d9a403301c7",
   "metadata": {},
   "outputs": [],
   "source": [
    "print(X_test[10])"
   ]
  },
  {
   "cell_type": "code",
   "execution_count": null,
   "id": "1f664676-54ee-45d6-b284-8cdafb5fed05",
   "metadata": {},
   "outputs": [],
   "source": [
    "print(y_train[0])"
   ]
  },
  {
   "cell_type": "code",
   "execution_count": null,
   "id": "3ae72afe-e27b-41e5-b73e-1583b7e8d0a8",
   "metadata": {},
   "outputs": [],
   "source": []
  },
  {
   "cell_type": "code",
   "execution_count": null,
   "id": "9cba2764-1b4b-4782-811f-e9e2477e0d73",
   "metadata": {},
   "outputs": [],
   "source": [
    "tf.keras.preprocessing.image_dataset_from_directory(\n",
    "    'NEU_DET/Test_IMAGES',\n",
    "    labels='inferred',\n",
    "    label_mode='int',\n",
    "    class_names=None,\n",
    "    color_mode='grayscale',\n",
    "    batch_size=32,\n",
    "    image_size=(200, 200),\n",
    "    shuffle=True,\n",
    "    seed=None,\n",
    "    validation_split=None,\n",
    "    subset=None,\n",
    "    interpolation='categorical',\n",
    "    follow_links=False,\n",
    ")\n"
   ]
  },
  {
   "cell_type": "code",
   "execution_count": null,
   "id": "30e93b47-7098-4c5f-8849-03e2894103f8",
   "metadata": {},
   "outputs": [],
   "source": [
    "import tensorflow as tf\n",
    "\n",
    "tf.keras.preprocessing.image.load_img(\n",
    "    'NEU_DET/Test_IMAGES/crazing/crazing_218.jpg', \n",
    "    grayscale=True, \n",
    "    color_mode=\"grayscale\", \n",
    "    target_size=None, \n",
    "    interpolation=\"categorical\"\n",
    ")\n"
   ]
  },
  {
   "cell_type": "code",
   "execution_count": null,
   "id": "fda2b375-4634-46d6-87d2-1001521df2fc",
   "metadata": {},
   "outputs": [],
   "source": [
    "image = tf.keras.preprocessing.image.load_img('NEU_DET/Test_IMAGES/crazing/crazing_218.jpg')\n",
    "input_arr = keras.preprocessing.image.img_to_array(image)\n",
    "input_arr = np.array([input_arr])  # Convert single image to a batch.\n",
    "predictions = model.predict(input_arr)"
   ]
  },
  {
   "cell_type": "code",
   "execution_count": null,
   "id": "db77e1c0-3ee6-4bfc-971d-cb10d4aaf65d",
   "metadata": {},
   "outputs": [],
   "source": []
  }
 ],
 "metadata": {
  "kernelspec": {
   "display_name": "Python 3",
   "language": "python",
   "name": "python3"
  },
  "language_info": {
   "codemirror_mode": {
    "name": "ipython",
    "version": 3
   },
   "file_extension": ".py",
   "mimetype": "text/x-python",
   "name": "python",
   "nbconvert_exporter": "python",
   "pygments_lexer": "ipython3",
   "version": "3.8.5"
  }
 },
 "nbformat": 4,
 "nbformat_minor": 5
}
