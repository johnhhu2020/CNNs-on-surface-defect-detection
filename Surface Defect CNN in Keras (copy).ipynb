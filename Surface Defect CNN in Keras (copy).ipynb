{
 "cells": [
  {
   "cell_type": "code",
   "execution_count": 7,
   "id": "bc898c0c-d732-40d0-add1-d8eb87a6d430",
   "metadata": {},
   "outputs": [
    {
     "name": "stdout",
     "output_type": "stream",
     "text": [
      "Found 1464 images belonging to 6 classes.\n",
      "Found 336 images belonging to 6 classes.\n"
     ]
    }
   ],
   "source": [
    "from tensorflow.keras.preprocessing.image import ImageDataGenerator\n",
    "import tensorflow as tf\n",
    "\n",
    "# All images will be rescaled by 1./255\n",
    "train_datagen = ImageDataGenerator(rescale=1./255)\n",
    "\n",
    "#   train_datagen = ImageDataGenerator(\n",
    "#           rescale=1./255,\n",
    "#           shear_range=0.2,\n",
    "#           zoom_range=0.2,\n",
    "#           horizontal_flip=True)\n",
    "\n",
    "datagen = ImageDataGenerator(\n",
    "        rotation_range=40,\n",
    "        width_shift_range=0.2,\n",
    "        height_shift_range=0.2,\n",
    "        rescale=1./255,\n",
    "        shear_range=0.2,\n",
    "        zoom_range=0.2,\n",
    "        horizontal_flip=True,\n",
    "        fill_mode='nearest')\n",
    "\n",
    "# Flow training images in batches of 128 using train_datagen generator\n",
    "train_generator = datagen.flow_from_directory(  # train_datagen\n",
    "        'NEU_DET/Train_IMAGES',  # This is the source directory for training images\n",
    "        target_size=(200,200),  # All images will be resized to 200 x 200\n",
    "        color_mode='grayscale',\n",
    "        batch_size = 64,\n",
    "        # Specify the classes explicitly\n",
    "        classes = ['crazing','inclusion','patches','pitted_surface','rolled_in_scale','scratches'],\n",
    "        # Since we use categorical_crossentropy loss, we need categorical labels\n",
    "        class_mode='categorical')\n",
    "\n",
    "\n",
    "# All images will be rescaled by 1./255\n",
    "test_datagen = ImageDataGenerator(rescale=1./255)\n",
    "\n",
    "# Flow training images in batches of 128 using train_datagen generator\n",
    "test_generator = datagen.flow_from_directory(\n",
    "        'NEU_DET/Test_IMAGES',  # This is the source directory for training images\n",
    "        target_size=(200,200),  # All images will be resized to 200 x 200\n",
    "        color_mode='grayscale', # grayscale, rgb\n",
    "        batch_size = 64,  # 128, 64, 32, 24\n",
    "        # Specify the classes explicitly\n",
    "        classes = ['crazing','inclusion','patches','pitted_surface','rolled_in_scale','scratches'],\n",
    "        # Since we use categorical_crossentropy loss, we need categorical labels\n",
    "        class_mode='categorical')\n"
   ]
  },
  {
   "cell_type": "code",
   "execution_count": 2,
   "id": "d09adc0d-fb67-48a6-91f6-21fba1b18626",
   "metadata": {},
   "outputs": [
    {
     "data": {
      "text/plain": [
       "{'crazing': 0,\n",
       " 'inclusion': 1,\n",
       " 'patches': 2,\n",
       " 'pitted_surface': 3,\n",
       " 'rolled_in_scale': 4,\n",
       " 'scratches': 5}"
      ]
     },
     "execution_count": 2,
     "metadata": {},
     "output_type": "execute_result"
    }
   ],
   "source": [
    "train_generator.class_indices"
   ]
  },
  {
   "cell_type": "code",
   "execution_count": 2,
   "id": "4189ac92-be4c-4fa5-9cb9-0f1d868e82fd",
   "metadata": {},
   "outputs": [
    {
     "name": "stdout",
     "output_type": "stream",
     "text": [
      "Model: \"sequential\"\n",
      "_________________________________________________________________\n",
      "Layer (type)                 Output Shape              Param #   \n",
      "=================================================================\n",
      "conv2d (Conv2D)              (None, 198, 198, 16)      160       \n",
      "_________________________________________________________________\n",
      "max_pooling2d (MaxPooling2D) (None, 99, 99, 16)        0         \n",
      "_________________________________________________________________\n",
      "conv2d_1 (Conv2D)            (None, 97, 97, 32)        4640      \n",
      "_________________________________________________________________\n",
      "max_pooling2d_1 (MaxPooling2 (None, 48, 48, 32)        0         \n",
      "_________________________________________________________________\n",
      "conv2d_2 (Conv2D)            (None, 46, 46, 64)        18496     \n",
      "_________________________________________________________________\n",
      "max_pooling2d_2 (MaxPooling2 (None, 23, 23, 64)        0         \n",
      "_________________________________________________________________\n",
      "conv2d_3 (Conv2D)            (None, 21, 21, 64)        36928     \n",
      "_________________________________________________________________\n",
      "max_pooling2d_3 (MaxPooling2 (None, 10, 10, 64)        0         \n",
      "_________________________________________________________________\n",
      "conv2d_4 (Conv2D)            (None, 8, 8, 64)          36928     \n",
      "_________________________________________________________________\n",
      "max_pooling2d_4 (MaxPooling2 (None, 4, 4, 64)          0         \n",
      "_________________________________________________________________\n",
      "flatten (Flatten)            (None, 1024)              0         \n",
      "_________________________________________________________________\n",
      "dense (Dense)                (None, 1024)              1049600   \n",
      "_________________________________________________________________\n",
      "dense_1 (Dense)              (None, 6)                 6150      \n",
      "=================================================================\n",
      "Total params: 1,152,902\n",
      "Trainable params: 1,152,902\n",
      "Non-trainable params: 0\n",
      "_________________________________________________________________\n"
     ]
    }
   ],
   "source": [
    "import tensorflow as tf\n",
    "\n",
    "model = tf.keras.models.Sequential([\n",
    "    # Note the input shape is the desired size of the image 200x 200 with 3 bytes color\n",
    "    # The first convolution\n",
    "    tf.keras.layers.Conv2D(16, (3,3), activation='relu', input_shape=(200, 200, 1)),\n",
    "    tf.keras.layers.MaxPooling2D(2, 2),\n",
    "    # The second convolution\n",
    "    tf.keras.layers.Conv2D(32, (3,3), activation='relu'),\n",
    "    tf.keras.layers.MaxPooling2D(2,2),\n",
    "    # The third convolution\n",
    "    tf.keras.layers.Conv2D(64, (3,3), activation='relu'),\n",
    "    tf.keras.layers.MaxPooling2D(2,2),\n",
    "    # The fourth convolution\n",
    "    tf.keras.layers.Conv2D(64, (3,3), activation='relu'),\n",
    "    tf.keras.layers.MaxPooling2D(2,2),\n",
    "    # The fifth convolution\n",
    "    tf.keras.layers.Conv2D(64, (3,3), activation='relu'),\n",
    "    tf.keras.layers.MaxPooling2D(2,2),\n",
    "    # Flatten the results to feed into a dense layer\n",
    "    tf.keras.layers.Flatten(),\n",
    "    # 128 neuron in the fully-connected layer\n",
    "    tf.keras.layers.Dense(1024, activation='relu'),  # 1024, 128, 64, 32\n",
    "    # 6 output neurons for 6 classes with the softmax activation\n",
    "    tf.keras.layers.Dense(6, activation='sigmoid')  # softmax\n",
    "])\n",
    "\n",
    "model.summary()"
   ]
  },
  {
   "cell_type": "code",
   "execution_count": 3,
   "id": "99e51082-7cf0-4555-a315-53224ac77e5c",
   "metadata": {},
   "outputs": [
    {
     "name": "stdout",
     "output_type": "stream",
     "text": [
      "Downloading data from https://storage.googleapis.com/tensorflow/keras-applications/vgg19/vgg19_weights_tf_dim_ordering_tf_kernels.h5\n",
      "574717952/574710816 [==============================] - 254s 0us/step\n",
      "VGG19 Loaded\n",
      "Model: \"vgg19\"\n",
      "_________________________________________________________________\n",
      "Layer (type)                 Output Shape              Param #   \n",
      "=================================================================\n",
      "input_1 (InputLayer)         [(None, 224, 224, 3)]     0         \n",
      "_________________________________________________________________\n",
      "block1_conv1 (Conv2D)        (None, 224, 224, 64)      1792      \n",
      "_________________________________________________________________\n",
      "block1_conv2 (Conv2D)        (None, 224, 224, 64)      36928     \n",
      "_________________________________________________________________\n",
      "block1_pool (MaxPooling2D)   (None, 112, 112, 64)      0         \n",
      "_________________________________________________________________\n",
      "block2_conv1 (Conv2D)        (None, 112, 112, 128)     73856     \n",
      "_________________________________________________________________\n",
      "block2_conv2 (Conv2D)        (None, 112, 112, 128)     147584    \n",
      "_________________________________________________________________\n",
      "block2_pool (MaxPooling2D)   (None, 56, 56, 128)       0         \n",
      "_________________________________________________________________\n",
      "block3_conv1 (Conv2D)        (None, 56, 56, 256)       295168    \n",
      "_________________________________________________________________\n",
      "block3_conv2 (Conv2D)        (None, 56, 56, 256)       590080    \n",
      "_________________________________________________________________\n",
      "block3_conv3 (Conv2D)        (None, 56, 56, 256)       590080    \n",
      "_________________________________________________________________\n",
      "block3_conv4 (Conv2D)        (None, 56, 56, 256)       590080    \n",
      "_________________________________________________________________\n",
      "block3_pool (MaxPooling2D)   (None, 28, 28, 256)       0         \n",
      "_________________________________________________________________\n",
      "block4_conv1 (Conv2D)        (None, 28, 28, 512)       1180160   \n",
      "_________________________________________________________________\n",
      "block4_conv2 (Conv2D)        (None, 28, 28, 512)       2359808   \n",
      "_________________________________________________________________\n",
      "block4_conv3 (Conv2D)        (None, 28, 28, 512)       2359808   \n",
      "_________________________________________________________________\n",
      "block4_conv4 (Conv2D)        (None, 28, 28, 512)       2359808   \n",
      "_________________________________________________________________\n",
      "block4_pool (MaxPooling2D)   (None, 14, 14, 512)       0         \n",
      "_________________________________________________________________\n",
      "block5_conv1 (Conv2D)        (None, 14, 14, 512)       2359808   \n",
      "_________________________________________________________________\n",
      "block5_conv2 (Conv2D)        (None, 14, 14, 512)       2359808   \n",
      "_________________________________________________________________\n",
      "block5_conv3 (Conv2D)        (None, 14, 14, 512)       2359808   \n",
      "_________________________________________________________________\n",
      "block5_conv4 (Conv2D)        (None, 14, 14, 512)       2359808   \n",
      "_________________________________________________________________\n",
      "block5_pool (MaxPooling2D)   (None, 7, 7, 512)         0         \n",
      "_________________________________________________________________\n",
      "flatten (Flatten)            (None, 25088)             0         \n",
      "_________________________________________________________________\n",
      "fc1 (Dense)                  (None, 4096)              102764544 \n",
      "_________________________________________________________________\n",
      "fc2 (Dense)                  (None, 4096)              16781312  \n",
      "_________________________________________________________________\n",
      "predictions (Dense)          (None, 1000)              4097000   \n",
      "=================================================================\n",
      "Total params: 143,667,240\n",
      "Trainable params: 143,667,240\n",
      "Non-trainable params: 0\n",
      "_________________________________________________________________\n",
      "None\n"
     ]
    }
   ],
   "source": [
    "# Image Detection Using the VGG-19 Convolutional Neural Network\n",
    "\n",
    "# Build VGG19 structure\n",
    "from tensorflow.keras.applications import VGG19\n",
    "\n",
    "base_model = VGG19()\n",
    "\n",
    "#   base_model = VGG19(weights='imagenet',\n",
    "#                   include_top=False,\n",
    "#                   input_shape=(200,200,3))\n",
    "\n",
    "print('VGG19 Loaded')\n",
    "print(base_model.summary())"
   ]
  },
  {
   "cell_type": "code",
   "execution_count": 2,
   "id": "204238d1-6f28-4ba2-a21e-70bc26efdfdc",
   "metadata": {},
   "outputs": [
    {
     "name": "stdout",
     "output_type": "stream",
     "text": [
      "VGG19 Loaded\n",
      "Model: \"vgg19\"\n",
      "_________________________________________________________________\n",
      "Layer (type)                 Output Shape              Param #   \n",
      "=================================================================\n",
      "input_1 (InputLayer)         [(None, 200, 200, 3)]     0         \n",
      "_________________________________________________________________\n",
      "block1_conv1 (Conv2D)        (None, 200, 200, 64)      1792      \n",
      "_________________________________________________________________\n",
      "block1_conv2 (Conv2D)        (None, 200, 200, 64)      36928     \n",
      "_________________________________________________________________\n",
      "block1_pool (MaxPooling2D)   (None, 100, 100, 64)      0         \n",
      "_________________________________________________________________\n",
      "block2_conv1 (Conv2D)        (None, 100, 100, 128)     73856     \n",
      "_________________________________________________________________\n",
      "block2_conv2 (Conv2D)        (None, 100, 100, 128)     147584    \n",
      "_________________________________________________________________\n",
      "block2_pool (MaxPooling2D)   (None, 50, 50, 128)       0         \n",
      "_________________________________________________________________\n",
      "block3_conv1 (Conv2D)        (None, 50, 50, 256)       295168    \n",
      "_________________________________________________________________\n",
      "block3_conv2 (Conv2D)        (None, 50, 50, 256)       590080    \n",
      "_________________________________________________________________\n",
      "block3_conv3 (Conv2D)        (None, 50, 50, 256)       590080    \n",
      "_________________________________________________________________\n",
      "block3_conv4 (Conv2D)        (None, 50, 50, 256)       590080    \n",
      "_________________________________________________________________\n",
      "block3_pool (MaxPooling2D)   (None, 25, 25, 256)       0         \n",
      "_________________________________________________________________\n",
      "block4_conv1 (Conv2D)        (None, 25, 25, 512)       1180160   \n",
      "_________________________________________________________________\n",
      "block4_conv2 (Conv2D)        (None, 25, 25, 512)       2359808   \n",
      "_________________________________________________________________\n",
      "block4_conv3 (Conv2D)        (None, 25, 25, 512)       2359808   \n",
      "_________________________________________________________________\n",
      "block4_conv4 (Conv2D)        (None, 25, 25, 512)       2359808   \n",
      "_________________________________________________________________\n",
      "block4_pool (MaxPooling2D)   (None, 12, 12, 512)       0         \n",
      "_________________________________________________________________\n",
      "block5_conv1 (Conv2D)        (None, 12, 12, 512)       2359808   \n",
      "_________________________________________________________________\n",
      "block5_conv2 (Conv2D)        (None, 12, 12, 512)       2359808   \n",
      "_________________________________________________________________\n",
      "block5_conv3 (Conv2D)        (None, 12, 12, 512)       2359808   \n",
      "_________________________________________________________________\n",
      "block5_conv4 (Conv2D)        (None, 12, 12, 512)       2359808   \n",
      "_________________________________________________________________\n",
      "block5_pool (MaxPooling2D)   (None, 6, 6, 512)         0         \n",
      "=================================================================\n",
      "Total params: 20,024,384\n",
      "Trainable params: 20,024,384\n",
      "Non-trainable params: 0\n",
      "_________________________________________________________________\n",
      "None\n"
     ]
    }
   ],
   "source": [
    "# Image Detection Using the VGG-19 Convolutional Neural Network\n",
    "\n",
    "# Build VGG19 structure\n",
    "from tensorflow.keras.applications import VGG19\n",
    "\n",
    "base_model = VGG19(weights='imagenet',include_top=False, input_shape=(200,200,3))\n",
    "\n",
    "print('VGG19 Loaded')\n",
    "print(base_model.summary())"
   ]
  },
  {
   "cell_type": "code",
   "execution_count": null,
   "id": "0ea1b81c-9e1d-40a3-8280-48e595f33a04",
   "metadata": {
    "jupyter": {
     "source_hidden": true
    },
    "tags": []
   },
   "outputs": [],
   "source": [
    "# Image Detection Using the VGG-19 Convolutional Neural Network\n",
    "\n",
    "\n",
    "# specify dataset size\n",
    "batch_size = 16\n",
    "nb_train_samples = 2084\n",
    "nb_validation_samples = 167\n",
    "nb_test_samples = len(os.listdir('data/test/tree')) + len(os.listdir('data/test/not_tree'))"
   ]
  },
  {
   "cell_type": "code",
   "execution_count": null,
   "id": "1a25427e-64f8-4020-81dd-ebb3efeb3de2",
   "metadata": {
    "jupyter": {
     "source_hidden": true
    },
    "tags": []
   },
   "outputs": [],
   "source": [
    "# Image Detection Using the VGG-19 Convolutional Neural Network\n",
    "\n",
    "\n",
    "# Build extraction function to get features and labels\n",
    "\n",
    "def extract_features(directory, sample_amount):\n",
    "    features = np.zeros(shape=(sample_amount, 7,7, 512))\n",
    "    labels = np.zeros(shape=(sample_amount))\n",
    "    datagen = ImageDataGenerator(rescale=1./255)\n",
    "    generator = datagen.flow_from_directory(\n",
    "        directory,\n",
    "        target_size(200,200),\n",
    "        class_mode='categorical')\n",
    "    \n",
    "    i = 0\n",
    "    for inputs_batch, labels_batch in generator:\n",
    "        features_batch = cnn_base.predict(inputs_batch)\n",
    "        features[i * batch_size : (i + 1) * batch_size] = features_batch\n",
    "        labels[i * batch_size : (i + 1) * batch_size] = labels_batch\n",
    "        i = i + 1\n",
    "        if i * batc_size >= sample_amount:\n",
    "            break\n",
    "    return features, labels"
   ]
  },
  {
   "cell_type": "code",
   "execution_count": null,
   "id": "e1853a21-cdc9-459f-a734-6a507028eb87",
   "metadata": {
    "jupyter": {
     "source_hidden": true
    },
    "tags": []
   },
   "outputs": [],
   "source": [
    "# Image Detection Using the VGG-19 Convolutional Neural Network\n",
    "\n",
    "\n",
    "# Apply extraction function to 3 datasets\n",
    "\n",
    "train_features, train_labels = extract_features(train_folder, nb_train_samples)\n",
    "validation_features, validation_labels = extract_features(val_folder, nb_validation_samples)\n",
    "test_features, test_labels = extract_features(test_folder, nb_test_samples)"
   ]
  },
  {
   "cell_type": "code",
   "execution_count": null,
   "id": "dd9f5d61-2ec9-485f-9def-92005c6d3e2a",
   "metadata": {
    "jupyter": {
     "source_hidden": true
    },
    "tags": []
   },
   "outputs": [],
   "source": [
    "# Image Detection Using the VGG-19 Convolutional Neural Network\n",
    "\n",
    "\n",
    "# Shape data\n",
    "\n",
    "reshape_y = 7 * 7 * 512\n",
    "train_features = np.reshape(train_features, (nb_train_samples, reshape_y))\n",
    "validation_features = np.reshape(validation_features, (np_validation_samples, reshape_y))\n",
    "test_features = np.reshape(test_features, (np_test_samples, reshape_y))"
   ]
  },
  {
   "cell_type": "code",
   "execution_count": null,
   "id": "fd870e01-7679-4576-b79f-24a6d9061f1f",
   "metadata": {
    "jupyter": {
     "source_hidden": true
    },
    "tags": []
   },
   "outputs": [],
   "source": [
    "# Image Detection Using the VGG-19 Convolutional Neural Network\n",
    "\n",
    "\n",
    "# # Save features and labels\n",
    "\n",
    "os.mkdir('data/bottlenecked')\n",
    "np"
   ]
  },
  {
   "cell_type": "code",
   "execution_count": 3,
   "id": "5c47d060-717f-4bbe-b3fe-f68f5d9d2ce3",
   "metadata": {},
   "outputs": [
    {
     "name": "stdout",
     "output_type": "stream",
     "text": [
      "Model: \"sequential\"\n",
      "_________________________________________________________________\n",
      "Layer (type)                 Output Shape              Param #   \n",
      "=================================================================\n",
      "vgg19 (Functional)           (None, 6, 6, 512)         20024384  \n",
      "_________________________________________________________________\n",
      "flatten (Flatten)            (None, 18432)             0         \n",
      "_________________________________________________________________\n",
      "dense (Dense)                (None, 2048)              37750784  \n",
      "_________________________________________________________________\n",
      "dense_1 (Dense)              (None, 6)                 12294     \n",
      "=================================================================\n",
      "Total params: 57,787,462\n",
      "Trainable params: 57,787,462\n",
      "Non-trainable params: 0\n",
      "_________________________________________________________________\n"
     ]
    }
   ],
   "source": [
    "# Image Detection Using the VGG-19 Convolutional Neural Network\n",
    "\n",
    "import tensorflow as tf\n",
    "\n",
    "# load model and specify a new input shape for images\n",
    "#new_input = Input(shape=(200, 200, 1))\n",
    "#model = VGG19(include_top=False, input_tensor=(200,200,3))\n",
    "\n",
    "model = tf.keras.models.Sequential(base_model)\n",
    "model.add(tf.keras.layers.Flatten())\n",
    "# model.add(tf.keras.layers.Dense(4096, activation='relu'))\n",
    "model.add(tf.keras.layers.Dense(4096, activation='relu'))  # 4096, 2048\n",
    "model.add(tf.keras.layers.Dense(6, activation='softmax'))\n",
    "\n",
    "model.summary()"
   ]
  },
  {
   "cell_type": "code",
   "execution_count": 3,
   "id": "01dd29b5-3e31-4351-ac5f-33f20909e779",
   "metadata": {},
   "outputs": [],
   "source": [
    "#compile model using accuracy to measure model performance\n",
    "model.compile(optimizer='adam',\n",
    "              loss='categorical_crossentropy',\n",
    "              metrics=['accuracy'])"
   ]
  },
  {
   "cell_type": "code",
   "execution_count": 3,
   "id": "0e6c1763-eaf1-4542-8d24-b2dd0cf8d559",
   "metadata": {},
   "outputs": [],
   "source": [
    "from tensorflow.keras.optimizers import RMSprop\n",
    "\n",
    "#   model.compile(loss='categorical_crossentropy',\n",
    "#                 optimizer=RMSprop(lr=0.0001),\n",
    "#                 metrics=['acc'])"
   ]
  },
  {
   "cell_type": "code",
   "execution_count": 4,
   "id": "1dff2f6d-acf4-4b5a-866d-5da27b5f7a44",
   "metadata": {},
   "outputs": [
    {
     "name": "stdout",
     "output_type": "stream",
     "text": [
      "Epoch 1/30\n",
      "23/23 [==============================] - 31s 1s/step - loss: 1.7446 - accuracy: 0.2223 - val_loss: 1.4439 - val_accuracy: 0.3423\n",
      "Epoch 2/30\n",
      "23/23 [==============================] - 30s 1s/step - loss: 1.3996 - accuracy: 0.4516 - val_loss: 1.0380 - val_accuracy: 0.5298\n",
      "Epoch 3/30\n",
      "23/23 [==============================] - 34s 1s/step - loss: 0.8721 - accuracy: 0.6642 - val_loss: 0.6160 - val_accuracy: 0.7619\n",
      "Epoch 4/30\n",
      "23/23 [==============================] - 30s 1s/step - loss: 0.5137 - accuracy: 0.8076 - val_loss: 0.3565 - val_accuracy: 0.9077\n",
      "Epoch 5/30\n",
      "23/23 [==============================] - 30s 1s/step - loss: 0.3890 - accuracy: 0.8712 - val_loss: 0.4267 - val_accuracy: 0.8750\n",
      "Epoch 6/30\n",
      "23/23 [==============================] - 30s 1s/step - loss: 0.4310 - accuracy: 0.8581 - val_loss: 0.2587 - val_accuracy: 0.9286\n",
      "Epoch 7/30\n",
      "23/23 [==============================] - 30s 1s/step - loss: 0.2315 - accuracy: 0.9064 - val_loss: 0.1736 - val_accuracy: 0.9464\n",
      "Epoch 8/30\n",
      "23/23 [==============================] - 32s 1s/step - loss: 0.1314 - accuracy: 0.9576 - val_loss: 0.5490 - val_accuracy: 0.8512\n",
      "Epoch 9/30\n",
      "23/23 [==============================] - 38s 2s/step - loss: 0.1981 - accuracy: 0.9252 - val_loss: 0.5141 - val_accuracy: 0.7917\n",
      "Epoch 10/30\n",
      "23/23 [==============================] - 40s 2s/step - loss: 0.1460 - accuracy: 0.9487 - val_loss: 0.1966 - val_accuracy: 0.9435\n",
      "Epoch 11/30\n",
      "23/23 [==============================] - 32s 1s/step - loss: 0.7247 - accuracy: 0.7839 - val_loss: 0.3838 - val_accuracy: 0.8750\n",
      "Epoch 12/30\n",
      "23/23 [==============================] - 36s 2s/step - loss: 0.3130 - accuracy: 0.8835 - val_loss: 0.2261 - val_accuracy: 0.9375\n",
      "Epoch 13/30\n",
      "23/23 [==============================] - 37s 2s/step - loss: 0.1733 - accuracy: 0.9412 - val_loss: 0.3990 - val_accuracy: 0.8512\n",
      "Epoch 14/30\n",
      "23/23 [==============================] - 32s 1s/step - loss: 0.1927 - accuracy: 0.9283 - val_loss: 0.2239 - val_accuracy: 0.9464\n",
      "Epoch 15/30\n",
      "23/23 [==============================] - 38s 2s/step - loss: 0.1215 - accuracy: 0.9573 - val_loss: 0.1708 - val_accuracy: 0.9702\n",
      "Epoch 16/30\n",
      "23/23 [==============================] - 35s 2s/step - loss: 0.1118 - accuracy: 0.9546 - val_loss: 0.1541 - val_accuracy: 0.9583\n",
      "Epoch 17/30\n",
      "23/23 [==============================] - 34s 1s/step - loss: 0.0940 - accuracy: 0.9622 - val_loss: 0.1977 - val_accuracy: 0.9315\n",
      "Epoch 18/30\n",
      "23/23 [==============================] - 35s 2s/step - loss: 0.0859 - accuracy: 0.9769 - val_loss: 0.1134 - val_accuracy: 0.9702\n",
      "Epoch 19/30\n",
      "23/23 [==============================] - 34s 1s/step - loss: 0.0711 - accuracy: 0.9715 - val_loss: 0.1163 - val_accuracy: 0.9673\n",
      "Epoch 20/30\n",
      "23/23 [==============================] - 32s 1s/step - loss: 0.0839 - accuracy: 0.9704 - val_loss: 0.0933 - val_accuracy: 0.9851\n",
      "Epoch 21/30\n",
      "23/23 [==============================] - 33s 1s/step - loss: 0.0792 - accuracy: 0.9714 - val_loss: 0.0963 - val_accuracy: 0.9702\n",
      "Epoch 22/30\n",
      "23/23 [==============================] - 34s 2s/step - loss: 0.0791 - accuracy: 0.9690 - val_loss: 0.1460 - val_accuracy: 0.9762\n",
      "Epoch 23/30\n",
      "23/23 [==============================] - 36s 2s/step - loss: 0.0553 - accuracy: 0.9837 - val_loss: 0.1624 - val_accuracy: 0.9435\n",
      "Epoch 24/30\n",
      "23/23 [==============================] - 34s 1s/step - loss: 0.0828 - accuracy: 0.9678 - val_loss: 0.1587 - val_accuracy: 0.9345\n",
      "Epoch 25/30\n",
      "23/23 [==============================] - 34s 2s/step - loss: 0.0902 - accuracy: 0.9642 - val_loss: 0.1498 - val_accuracy: 0.9554\n",
      "Epoch 26/30\n",
      "23/23 [==============================] - 38s 2s/step - loss: 0.1078 - accuracy: 0.9599 - val_loss: 0.1737 - val_accuracy: 0.9524\n",
      "Epoch 27/30\n",
      "23/23 [==============================] - 31s 1s/step - loss: 0.0912 - accuracy: 0.9640 - val_loss: 0.0860 - val_accuracy: 0.9792\n",
      "Epoch 28/30\n",
      "23/23 [==============================] - 31s 1s/step - loss: 0.0621 - accuracy: 0.9766 - val_loss: 0.0991 - val_accuracy: 0.9821\n",
      "Epoch 29/30\n",
      "23/23 [==============================] - 30s 1s/step - loss: 0.0525 - accuracy: 0.9771 - val_loss: 0.0901 - val_accuracy: 0.9851\n",
      "Epoch 30/30\n",
      "23/23 [==============================] - 31s 1s/step - loss: 0.0460 - accuracy: 0.9837 - val_loss: 0.0854 - val_accuracy: 0.9851\n"
     ]
    }
   ],
   "source": [
    "history = model.fit(\n",
    "        train_generator,\n",
    "        validation_data = test_generator,\n",
    "        epochs = 30)"
   ]
  },
  {
   "cell_type": "code",
   "execution_count": 6,
   "id": "a76304c3-7a93-42f9-9f29-34e5fbf6fd01",
   "metadata": {},
   "outputs": [
    {
     "data": {
      "image/png": "[encoded data removed]",
      "text/plain": [
       "<Figure size 504x288 with 1 Axes>"
      ]
     },
     "metadata": {
      "needs_background": "light"
     },
     "output_type": "display_data"
    }
   ],
   "source": [
    "import matplotlib.pyplot as plt\n",
    "\n",
    "plt.figure(figsize=(7,4))\n",
    "plt.plot([i+1 for i in range(30)],history.history['accuracy'],'-o',c='b',lw=1,markersize=2)\n",
    "plt.plot([i+1 for i in range(30)],history.history['val_accuracy'],'-o',c='g',lw=1,markersize=2)\n",
    "plt.grid(True)\n",
    "plt.title(\"Training accuracy with epochs\\n\",fontsize=18)\n",
    "plt.xlabel(\"Training epochs\",fontsize=15)\n",
    "plt.ylabel(\"Training accuracy\",fontsize=15)\n",
    "plt.xticks(fontsize=15)\n",
    "plt.yticks(fontsize=15)\n",
    "plt.show()\n"
   ]
  },
  {
   "cell_type": "code",
   "execution_count": null,
   "id": "a7af64c2-1e2a-44ab-81a3-07327cf82c8d",
   "metadata": {},
   "outputs": [],
   "source": []
  },
  {
   "cell_type": "code",
   "execution_count": null,
   "id": "5e13966f-0273-484a-a8f2-0509a645bef2",
   "metadata": {},
   "outputs": [],
   "source": []
  },
  {
   "cell_type": "code",
   "execution_count": null,
   "id": "bcc081be-3895-4f3b-86ff-dda2298f1dfb",
   "metadata": {},
   "outputs": [],
   "source": []
  },
  {
   "cell_type": "code",
   "execution_count": null,
   "id": "7a6944b1-3302-458e-af00-993ef4b31629",
   "metadata": {},
   "outputs": [],
   "source": []
  },
  {
   "cell_type": "code",
   "execution_count": null,
   "id": "59ce3df2-9dfe-42b1-b8e2-fa17913197c6",
   "metadata": {},
   "outputs": [],
   "source": []
  },
  {
   "cell_type": "code",
   "execution_count": null,
   "id": "e5c0d54b-ebf2-49d2-a07a-52dee0fa9a21",
   "metadata": {},
   "outputs": [],
   "source": []
  },
  {
   "cell_type": "code",
   "execution_count": null,
   "id": "79431a60-10b2-45cb-8ec7-d054f3af0c3a",
   "metadata": {},
   "outputs": [],
   "source": [
    "import numpy as np\n",
    "import matplotlib.pyplot as plt\n",
    "import os\n",
    "import cv2\n",
    "#from tqdm import tqdm\n",
    "\n",
    "DATADIR = 'NEU_DET/Train_IMAGES'\n",
    "\n",
    "CATEGORIES = ['crazing','inclusion','patches','pitted_surface','rolled_in_scale','scratches']\n",
    "\n",
    "for category in CATEGORIES:  # do dogs and cats\n",
    "    path = os.path.join(DATADIR,category)  # create path to dogs and cats\n",
    "    train_class_num = CATEGORIES.index(category)  # get the classification  (0 or a 1). 0=dog 1=cat\n",
    "    for img in os.listdir(path):  # iterate over each image per dogs and cats\n",
    "        \n",
    "        train_img_array = cv2.imread(os.path.join(path,img) ,cv2.IMREAD_GRAYSCALE)     # convert to array\n",
    "        plt.imshow(train_img_array, cmap='gray')  # graph it\n",
    "        plt.show()  # display!\n",
    "\n",
    "        break  # we just want one for now so break\n",
    "    break  #...and one more!\n",
    "\n",
    "    \n",
    "DATADIR = 'NEU_DET/Test_IMAGES'\n",
    "\n",
    "CATEGORIES = ['crazing','inclusion','patches','pitted_surface','rolled_in_scale','scratches']\n",
    "\n",
    "for category in CATEGORIES:  # do dogs and cats\n",
    "    path = os.path.join(DATADIR,category)  # create path to dogs and cats\n",
    "    test_class_num = CATEGORIES.index(category)  # get the classification  (0 or a 1). 0=dog 1=cat\n",
    "    for img in os.listdir(path):  # iterate over each image per dogs and cats\n",
    "        \n",
    "        test_img_array = cv2.imread(os.path.join(path,img) ,cv2.IMREAD_GRAYSCALE)     # convert to array\n",
    "        plt.imshow(test_img_array, cmap='gray')  # graph it\n",
    "        plt.show()  # display!\n",
    "\n",
    "        break  # we just want one for now so break\n",
    "    break  #...and one more!\n"
   ]
  },
  {
   "cell_type": "code",
   "execution_count": null,
   "id": "d5c9a79c-bafc-482a-bed6-10d88c7efd6e",
   "metadata": {},
   "outputs": [],
   "source": [
    "print(train_img_array[0])"
   ]
  },
  {
   "cell_type": "code",
   "execution_count": null,
   "id": "4d32fdaf-1fac-4fc8-9b73-e09ce62befb8",
   "metadata": {},
   "outputs": [],
   "source": [
    "print(test_img_array.shape)"
   ]
  },
  {
   "cell_type": "code",
   "execution_count": null,
   "id": "9f5a658f-6e9f-4463-aa0d-cdd164c53e5e",
   "metadata": {},
   "outputs": [],
   "source": [
    "from keras.utils import to_categorical\n",
    "\n",
    "y_train = to_categorical(train_class_num)\n",
    "\n",
    "print(y_train[6])"
   ]
  },
  {
   "cell_type": "code",
   "execution_count": null,
   "id": "445b5dc8-92ce-42ab-a8eb-fcba206df77d",
   "metadata": {},
   "outputs": [],
   "source": [
    "import keras\n",
    "\n",
    "X_train = train_img_array\n",
    "y_train = keras.utils.to_categorical(X_train, class_num)\n",
    "\n",
    "X_test = test_img_array\n",
    "y_test = keras.utils.to_categorical(X_test, class_num)"
   ]
  },
  {
   "cell_type": "code",
   "execution_count": null,
   "id": "0b9b4764-77f9-46be-b461-2d9a403301c7",
   "metadata": {},
   "outputs": [],
   "source": [
    "print(X_test[10])"
   ]
  },
  {
   "cell_type": "code",
   "execution_count": null,
   "id": "1f664676-54ee-45d6-b284-8cdafb5fed05",
   "metadata": {},
   "outputs": [],
   "source": [
    "print(y_train[0])"
   ]
  },
  {
   "cell_type": "code",
   "execution_count": null,
   "id": "3ae72afe-e27b-41e5-b73e-1583b7e8d0a8",
   "metadata": {},
   "outputs": [],
   "source": []
  },
  {
   "cell_type": "code",
   "execution_count": null,
   "id": "9cba2764-1b4b-4782-811f-e9e2477e0d73",
   "metadata": {},
   "outputs": [],
   "source": [
    "tf.keras.preprocessing.image_dataset_from_directory(\n",
    "    'NEU_DET/Test_IMAGES',\n",
    "    labels='inferred',\n",
    "    label_mode='int',\n",
    "    class_names=None,\n",
    "    color_mode='grayscale',\n",
    "    batch_size=32,\n",
    "    image_size=(200, 200),\n",
    "    shuffle=True,\n",
    "    seed=None,\n",
    "    validation_split=None,\n",
    "    subset=None,\n",
    "    interpolation='categorical',\n",
    "    follow_links=False,\n",
    ")\n"
   ]
  },
  {
   "cell_type": "code",
   "execution_count": null,
   "id": "30e93b47-7098-4c5f-8849-03e2894103f8",
   "metadata": {},
   "outputs": [],
   "source": [
    "import tensorflow as tf\n",
    "\n",
    "tf.keras.preprocessing.image.load_img(\n",
    "    'NEU_DET/Test_IMAGES/crazing/crazing_218.jpg', \n",
    "    grayscale=True, \n",
    "    color_mode=\"grayscale\", \n",
    "    target_size=None, \n",
    "    interpolation=\"categorical\"\n",
    ")\n"
   ]
  },
  {
   "cell_type": "code",
   "execution_count": null,
   "id": "fda2b375-4634-46d6-87d2-1001521df2fc",
   "metadata": {},
   "outputs": [],
   "source": [
    "image = tf.keras.preprocessing.image.load_img('NEU_DET/Test_IMAGES/crazing/crazing_218.jpg')\n",
    "input_arr = keras.preprocessing.image.img_to_array(image)\n",
    "input_arr = np.array([input_arr])  # Convert single image to a batch.\n",
    "predictions = model.predict(input_arr)"
   ]
  },
  {
   "cell_type": "code",
   "execution_count": null,
   "id": "db77e1c0-3ee6-4bfc-971d-cb10d4aaf65d",
   "metadata": {},
   "outputs": [],
   "source": []
  }
 ],
 "metadata": {
  "kernelspec": {
   "display_name": "Python 3",
   "language": "python",
   "name": "python3"
  },
  "language_info": {
   "codemirror_mode": {
    "name": "ipython",
    "version": 3
   },
   "file_extension": ".py",
   "mimetype": "text/x-python",
   "name": "python",
   "nbconvert_exporter": "python",
   "pygments_lexer": "ipython3",
   "version": "3.8.5"
  }
 },
 "nbformat": 4,
 "nbformat_minor": 5
}
